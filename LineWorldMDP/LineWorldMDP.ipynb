{
  "nbformat": 4,
  "nbformat_minor": 0,
  "metadata": {
    "colab": {
      "name": "LineWorldMDP.ipynb",
      "provenance": [],
      "collapsed_sections": []
    },
    "kernelspec": {
      "name": "python3",
      "display_name": "Python 3"
    }
  },
  "cells": [
    {
      "cell_type": "markdown",
      "metadata": {
        "id": "Tp2CJZ0D0uWC"
      },
      "source": [
        "# LineWorld MDP\r\n",
        "\r\n",
        "This notebook provides a proof of concept of behavior initialization. Agents are simulated in the 1D LineWorld from [Kumar et. al.](https://bair.berkeley.edu/blog/2019/12/05/bear/) and demonstrate the neccessity for data collection. "
      ]
    },
    {
      "cell_type": "markdown",
      "metadata": {
        "id": "XA-trFia1kv5"
      },
      "source": [
        "### Imports"
      ]
    },
    {
      "cell_type": "code",
      "metadata": {
        "colab": {
          "base_uri": "https://localhost:8080/"
        },
        "id": "QRbyUpfN91FF",
        "outputId": "2ff508bf-2823-49eb-eb8a-b80d7ed3acd1"
      },
      "source": [
        "import numpy as np\r\n",
        "import torch\r\n",
        "import random\r\n",
        "import math\r\n",
        "import time\r\n",
        "import torch.nn as nn\r\n",
        "from collections import deque\r\n",
        "import matplotlib.pyplot as plt\r\n",
        "\r\n",
        "DEVICE = 'cuda' if torch.cuda.is_available() else 'cpu'\r\n",
        "torch.manual_seed(2)"
      ],
      "execution_count": 58,
      "outputs": [
        {
          "output_type": "execute_result",
          "data": {
            "text/plain": [
              "<torch._C.Generator at 0x7f85816f1b58>"
            ]
          },
          "metadata": {
            "tags": []
          },
          "execution_count": 58
        }
      ]
    },
    {
      "cell_type": "markdown",
      "metadata": {
        "id": "d35PMK4K1m4N"
      },
      "source": [
        "### The 1D Line World MDP"
      ]
    },
    {
      "cell_type": "code",
      "metadata": {
        "id": "f2AYH2WQ-GQB"
      },
      "source": [
        "class LineWorldMDP:\r\n",
        "    def __init__(self, num_states):\r\n",
        "        # initialize MDP\r\n",
        "        self.end           = False\r\n",
        "        self.current_state = 1\r\n",
        "        self.num_actions   = 2\r\n",
        "        self.num_states    = num_states\r\n",
        "        self.step_count = 0\r\n",
        "\r\n",
        "    def reset(self):\r\n",
        "        # reset MDP\r\n",
        "        self.step_count = 0\r\n",
        "        self.end = False\r\n",
        "        self.current_state = 1\r\n",
        "        state = np.zeros(self.num_states)\r\n",
        "        state[self.current_state - 1] = 1.\r\n",
        "        return state\r\n",
        "\r\n",
        "    def step(self, action):\r\n",
        "        # increment step count\r\n",
        "        self.step_count += 1\r\n",
        "\r\n",
        "        # positive reward for right action\r\n",
        "        if action == 1:\r\n",
        "            self.current_state += 1\r\n",
        "            reward = 1\r\n",
        "        # negative reward for left action\r\n",
        "        else:\r\n",
        "            self.current_state -= 1\r\n",
        "            reward = -1\r\n",
        "            self.end = True\r\n",
        "\r\n",
        "        # check step counter\r\n",
        "        if self.step_count >= 1000 or self.current_state==self.num_states:\r\n",
        "            self.end = True\r\n",
        "\r\n",
        "        state = np.zeros(self.num_states)\r\n",
        "        state[self.current_state - 1] = 1\r\n",
        "        return state, reward, self.end, {}\r\n"
      ],
      "execution_count": 59,
      "outputs": []
    },
    {
      "cell_type": "markdown",
      "metadata": {
        "id": "J7E-I7HA1xfE"
      },
      "source": [
        "### Neural Network Architecture"
      ]
    },
    {
      "cell_type": "code",
      "metadata": {
        "id": "ivc4vVp_-HLV"
      },
      "source": [
        "class Net(nn.Module):\r\n",
        "    def __init__(self, num_inputs, num_actions):\r\n",
        "        super(Net, self).__init__()\r\n",
        "        self.num_actions = num_actions\r\n",
        "        self.l1 = nn.Linear(num_inputs, 32)\r\n",
        "        self.relu2 = nn.ReLU()\r\n",
        "        self.l3 = nn.Linear(32, num_actions)\r\n",
        "\r\n",
        "    def forward(self, states):\r\n",
        "        x = to_torch(states)\r\n",
        "        x = to_torch(x)\r\n",
        "        x = self.l1(x)\r\n",
        "        x = self.relu2(x)\r\n",
        "        x = self.l3(x)\r\n",
        "        return x\r\n",
        "    \r\n",
        "    def get_actions(self, steps, states):\r\n",
        "        if random.random() > 0.001 + (0.4 - 0.001) * math.exp(-1. * steps / 200):\r\n",
        "            x = to_torch(states)\r\n",
        "            x = self.forward(x)\r\n",
        "            x = torch.argmax(x).type(torch.int64)\r\n",
        "            return x\r\n",
        "        else:\r\n",
        "            return to_torch(np.random.randint(low=0, high=self.num_actions)).type(torch.int64)\r\n",
        "\r\n",
        "\r\n",
        "def to_torch(x, **kwargs):\r\n",
        "\tif torch.is_tensor(x):\r\n",
        "\t\treturn x.to(DEVICE)\r\n",
        "\telse:\r\n",
        "\t\treturn torch.tensor(x, device=DEVICE, dtype=torch.float32, **kwargs)\r\n"
      ],
      "execution_count": 60,
      "outputs": []
    },
    {
      "cell_type": "markdown",
      "metadata": {
        "id": "ajBrBi9W11HI"
      },
      "source": [
        "### Replay Buffer"
      ]
    },
    {
      "cell_type": "code",
      "metadata": {
        "id": "hCyycb1a-NqD"
      },
      "source": [
        "class ReplayBuffer():\r\n",
        "    def __init__(self, capacity):\r\n",
        "        self.buffer = deque(maxlen=capacity)\r\n",
        "    \r\n",
        "    def push(self, state, action, reward, next_state, done):\r\n",
        "        state      = np.expand_dims(state, 0)\r\n",
        "        next_state = np.expand_dims(next_state, 0)\r\n",
        "            \r\n",
        "        self.buffer.append((state, action, reward, next_state, done))\r\n",
        "    \r\n",
        "    def empty(self):\r\n",
        "        while self.buffer:\r\n",
        "          _ = self.buffer.pop()\r\n",
        "\r\n",
        "    def sample(self, batch_size):\r\n",
        "        state, action, reward, next_state, done = zip(*random.sample(self.buffer, batch_size))\r\n",
        "        return np.concatenate(state), action, reward, np.concatenate(next_state), done\r\n",
        "    \r\n",
        "    def __len__(self):\r\n",
        "        return len(self.buffer)\r\n"
      ],
      "execution_count": 61,
      "outputs": []
    },
    {
      "cell_type": "markdown",
      "metadata": {
        "id": "X8jhLy4t14tq"
      },
      "source": [
        "### Train using Q-Learning"
      ]
    },
    {
      "cell_type": "code",
      "metadata": {
        "id": "8c9xT2S9-Afq"
      },
      "source": [
        "def train(replay_buffer, agent):\r\n",
        "    states, actions, rewards, next_states, dones = replay_buffer.sample(batch_size)\r\n",
        "    states = to_torch(states)\r\n",
        "    actions = to_torch(actions).type(torch.int64)\r\n",
        "    rewards = to_torch(rewards)\r\n",
        "    next_states = to_torch(next_states)\r\n",
        "    dones = to_torch(dones)\r\n",
        "    vals = agent(states)\r\n",
        "    vals = vals.gather(1, actions.unsqueeze(1))\r\n",
        "    next_vals = agent(next_states).max(1)[0]\r\n",
        "    target = rewards + gamma*next_vals*(1 - dones)\r\n",
        "    td_error = (target.detach() - vals).pow(2).mean()\r\n",
        "    optimizer.zero_grad()\r\n",
        "    td_error.backward()\r\n",
        "    optimizer.step()\r\n",
        "    return td_error.item()    \r\n"
      ],
      "execution_count": 62,
      "outputs": []
    },
    {
      "cell_type": "markdown",
      "metadata": {
        "id": "4ijA-xQl1_iA"
      },
      "source": [
        "### Simulate Agent in Environment"
      ]
    },
    {
      "cell_type": "code",
      "metadata": {
        "id": "WWZys5gL-fpU"
      },
      "source": [
        "def main(env, model, replay_buffer, data_collect):\r\n",
        "    log_dict = {}\r\n",
        "    log_dict['rewards'] = []\r\n",
        "    log_dict['average_rewards'] = []\r\n",
        "    log_dict['average_error'] = []\r\n",
        "    log_dict['td_error'] = []\r\n",
        "    log_dict['ep_count'] = []\r\n",
        "    state = env.reset()\r\n",
        "    loss = torch.FloatTensor([0])\r\n",
        "    steps = 0\r\n",
        "    ep_step_count = 0\r\n",
        "    ep_reward = 0\r\n",
        "    ep_loss = 0\r\n",
        "    while steps < num_steps:\r\n",
        "        action = model.get_actions(steps, state)\r\n",
        "        next_state, reward, done, _ = env.step(action)\r\n",
        "        ep_reward += reward\r\n",
        "        steps += 1\r\n",
        "        ep_step_count += 1\r\n",
        "\r\n",
        "        if len(replay_buffer) > batch_size:\r\n",
        "            loss = train(replay_buffer, model)\r\n",
        "        ep_loss += loss\r\n",
        "\r\n",
        "        if steps%data_collect==0:\r\n",
        "            replay_buffer.push(state, action, reward, next_state, done)\r\n",
        "        state = next_state\r\n",
        "\r\n",
        "        if done:\r\n",
        "            state = env.reset()\r\n",
        "            ep_step_count = 0\r\n",
        "            done = False\r\n",
        "            log_dict['rewards'].append(ep_reward)\r\n",
        "            log_dict['td_error'].append(ep_loss)\r\n",
        "            if len(log_dict['rewards']) > window_size:\r\n",
        "                log_dict['average_rewards'].append(np.mean(log_dict['rewards'][-window_size:]))\r\n",
        "                log_dict['average_error'].append(np.mean(log_dict['td_error'][-window_size:]))\r\n",
        "            log_dict['ep_count'].append(steps)\r\n",
        "            ep_loss = 0\r\n",
        "            ep_reward = 0\r\n",
        "        \r\n",
        "        if steps % log_interval==0:\r\n",
        "            print('\\tSteps: ', steps,'/', num_steps,'\\tReward:', \r\n",
        "                log_dict['rewards'][-1],'\\tMax Reward:',max(log_dict['rewards']),'\\tTD Error:',log_dict['td_error'][-1],'\\tTime:', time.time() - start_time)\r\n",
        "\r\n",
        "    return log_dict    \r\n"
      ],
      "execution_count": 63,
      "outputs": []
    },
    {
      "cell_type": "markdown",
      "metadata": {
        "id": "fPs6FbZi2D97"
      },
      "source": [
        "## Plotting utilities"
      ]
    },
    {
      "cell_type": "code",
      "metadata": {
        "id": "AObOf8h0-iSI"
      },
      "source": [
        "def res_plot(log_dir, log_dir_off):\r\n",
        "\t# plot rewards\r\n",
        "    fig = plt.figure()\r\n",
        "    plt.title('Average Returns', fontsize=24)\r\n",
        "    plt.plot(log_dir['average_rewards'][-200:])\r\n",
        "    plt.plot(log_dir_off['average_rewards'][-200:])\r\n",
        "    plt.xlabel('Steps', fontsize=18)\r\n",
        "    plt.ylabel('Returns', fontsize=18)\r\n",
        "    plt.legend(['No Dataset','Sub-Optimal Dataset'])\r\n",
        "    plt.show()\r\n",
        "    fig.savefig('plot_rewards.png', dpi=600, bbox_inches='tight')\r\n",
        "\r\n",
        "def plot_regret(log, log_off):\r\n",
        "\t# plot rewards\r\n",
        "    fig = plt.figure()\r\n",
        "    plt.title('Regret', fontsize=24)\r\n",
        "    regret = []\r\n",
        "    regret_off = []\r\n",
        "    for j in regret_states:\r\n",
        "        regret.append(j - max(log[j]))\r\n",
        "        regret_off.append(j - max(log_off[j]))\r\n",
        "    plt.plot(regret_states, regret)\r\n",
        "    plt.plot(regret_states, regret_off)\r\n",
        "    plt.xlabel('States', fontsize=18)\r\n",
        "    plt.ylabel('Average Regret', fontsize=18)\r\n",
        "    plt.legend(['No Dataset','Sub-Optimal Dataset'])\r\n",
        "    plt.show()\r\n",
        "    fig.savefig('plot_regret.png', dpi=600, bbox_inches='tight')\r\n"
      ],
      "execution_count": 64,
      "outputs": []
    },
    {
      "cell_type": "markdown",
      "metadata": {
        "id": "NmBrhD613Bc4"
      },
      "source": [
        "## Experiment-1"
      ]
    },
    {
      "cell_type": "markdown",
      "metadata": {
        "id": "pMVZWd3R2J_r"
      },
      "source": [
        "### Train Agent without a dataset"
      ]
    },
    {
      "cell_type": "code",
      "metadata": {
        "colab": {
          "base_uri": "https://localhost:8080/"
        },
        "id": "1P7Z11Mb-i_P",
        "outputId": "b953356d-4122-41e8-bf71-b785f2132dfe"
      },
      "source": [
        "# hyperparameters\r\n",
        "lr = 0.001\r\n",
        "gamma = 0.95\r\n",
        "batch_size = 32\r\n",
        "num_states = 200\r\n",
        "num_steps = 20000\r\n",
        "window_size = 20\r\n",
        "log_interval = 1000\r\n",
        "buffer_size = 1000\r\n",
        "start_time = time.time()\r\n",
        "\r\n",
        "# initialize env and agent\r\n",
        "env = LineWorldMDP(num_states=num_states)\r\n",
        "model = Net(env.num_states, env.num_actions)\r\n",
        "optimizer = torch.optim.Adam(model.parameters(), lr=lr)\r\n",
        "replay_buffer = ReplayBuffer(buffer_size)\r\n",
        "\r\n",
        "# train agent without a dataset\r\n",
        "log_dict = main(env, model, replay_buffer, data_collect=20)\r\n",
        "replay_buffer.empty()"
      ],
      "execution_count": 71,
      "outputs": [
        {
          "output_type": "stream",
          "text": [
            "\tSteps:  1000 / 20000 \tReward: 2 \tMax Reward: 16 \tTD Error: 2.1893310248851776 \tTime: 0.8530707359313965\n",
            "\tSteps:  2000 / 20000 \tReward: 60 \tMax Reward: 199 \tTD Error: 94.58632791042328 \tTime: 2.53533673286438\n",
            "\tSteps:  3000 / 20000 \tReward: 199 \tMax Reward: 199 \tTD Error: 425.14922523498535 \tTime: 4.257816314697266\n",
            "\tSteps:  4000 / 20000 \tReward: 199 \tMax Reward: 199 \tTD Error: 587.8378605246544 \tTime: 5.970109701156616\n",
            "\tSteps:  5000 / 20000 \tReward: 41 \tMax Reward: 199 \tTD Error: 160.80916094779968 \tTime: 7.706385850906372\n",
            "\tSteps:  6000 / 20000 \tReward: 199 \tMax Reward: 199 \tTD Error: 798.7293793261051 \tTime: 9.439692735671997\n",
            "\tSteps:  7000 / 20000 \tReward: 199 \tMax Reward: 199 \tTD Error: 887.3098019361496 \tTime: 11.17654800415039\n",
            "\tSteps:  8000 / 20000 \tReward: 199 \tMax Reward: 199 \tTD Error: 921.3425795435905 \tTime: 12.910367965698242\n",
            "\tSteps:  9000 / 20000 \tReward: 199 \tMax Reward: 199 \tTD Error: 971.9707253277302 \tTime: 14.642228364944458\n",
            "\tSteps:  10000 / 20000 \tReward: 199 \tMax Reward: 199 \tTD Error: 958.4402834177017 \tTime: 16.38141965866089\n",
            "\tSteps:  11000 / 20000 \tReward: 199 \tMax Reward: 199 \tTD Error: 1092.4922710061073 \tTime: 18.131993055343628\n",
            "\tSteps:  12000 / 20000 \tReward: 199 \tMax Reward: 199 \tTD Error: 1115.7913201451302 \tTime: 19.868433475494385\n",
            "\tSteps:  13000 / 20000 \tReward: 199 \tMax Reward: 199 \tTD Error: 1044.4113330543041 \tTime: 21.62740445137024\n",
            "\tSteps:  14000 / 20000 \tReward: 199 \tMax Reward: 199 \tTD Error: 1068.5453400164843 \tTime: 23.342467546463013\n",
            "\tSteps:  15000 / 20000 \tReward: 199 \tMax Reward: 199 \tTD Error: 1079.4969772845507 \tTime: 25.058463096618652\n",
            "\tSteps:  16000 / 20000 \tReward: 199 \tMax Reward: 199 \tTD Error: 1174.1075598299503 \tTime: 26.774842739105225\n",
            "\tSteps:  17000 / 20000 \tReward: 199 \tMax Reward: 199 \tTD Error: 1031.984975591302 \tTime: 28.49867582321167\n",
            "\tSteps:  18000 / 20000 \tReward: 199 \tMax Reward: 199 \tTD Error: 1110.2806991487741 \tTime: 30.214048385620117\n",
            "\tSteps:  19000 / 20000 \tReward: 33 \tMax Reward: 199 \tTD Error: 169.83250305056572 \tTime: 31.944447994232178\n",
            "\tSteps:  20000 / 20000 \tReward: 199 \tMax Reward: 199 \tTD Error: 1050.3710384368896 \tTime: 33.6549506187439\n"
          ],
          "name": "stdout"
        }
      ]
    },
    {
      "cell_type": "markdown",
      "metadata": {
        "id": "Bqj2LDia2ZDc"
      },
      "source": [
        "### Train agent with a sub-optimal dataset"
      ]
    },
    {
      "cell_type": "code",
      "metadata": {
        "colab": {
          "base_uri": "https://localhost:8080/"
        },
        "id": "4EVIjGwDEu9m",
        "outputId": "1c571e7d-a944-45f3-9da2-1ea6e1d81356"
      },
      "source": [
        "# construct dataset of sub-optimal actions\r\n",
        "off_replay_buffer = ReplayBuffer(buffer_size)\r\n",
        "\r\n",
        "state = env.reset()\r\n",
        "for _ in range(20*batch_size):\r\n",
        "  action = 0\r\n",
        "  next_state, reward, done, _ = env.step(action)\r\n",
        "  off_replay_buffer.push(state, action, reward, next_state, done)\r\n",
        "  if done:\r\n",
        "    state = env.reset()\r\n",
        "    ep_step_count = 0\r\n",
        "    done = False\r\n",
        "\r\n",
        "# initialize model and env\r\n",
        "off_model = Net(env.num_states, env.num_actions)\r\n",
        "optimizer = torch.optim.Adam(off_model.parameters(), lr=lr)\r\n",
        "\r\n",
        "# train agent\r\n",
        "log_dict_off = main(env, off_model, off_replay_buffer, data_collect=20)\r\n",
        "replay_buffer.empty()"
      ],
      "execution_count": 72,
      "outputs": [
        {
          "output_type": "stream",
          "text": [
            "\tSteps:  1000 / 20000 \tReward: 1 \tMax Reward: 36 \tTD Error: 0.21830253675580025 \tTime: 38.66565418243408\n",
            "\tSteps:  2000 / 20000 \tReward: 2 \tMax Reward: 36 \tTD Error: 0.3552292510867119 \tTime: 40.36509680747986\n",
            "\tSteps:  3000 / 20000 \tReward: 3 \tMax Reward: 36 \tTD Error: 0.7345527522265911 \tTime: 42.0851993560791\n",
            "\tSteps:  4000 / 20000 \tReward: 3 \tMax Reward: 36 \tTD Error: 1.5171979665756226 \tTime: 43.78539848327637\n",
            "\tSteps:  5000 / 20000 \tReward: 3 \tMax Reward: 36 \tTD Error: 1.9804703891277313 \tTime: 45.4818754196167\n",
            "\tSteps:  6000 / 20000 \tReward: 3 \tMax Reward: 36 \tTD Error: 2.1286497116088867 \tTime: 47.191272497177124\n",
            "\tSteps:  7000 / 20000 \tReward: 3 \tMax Reward: 36 \tTD Error: 2.824900299310684 \tTime: 48.92257809638977\n",
            "\tSteps:  8000 / 20000 \tReward: 3 \tMax Reward: 36 \tTD Error: 3.281929910182953 \tTime: 50.6252007484436\n",
            "\tSteps:  9000 / 20000 \tReward: 3 \tMax Reward: 42 \tTD Error: 3.7480518221855164 \tTime: 52.36815142631531\n",
            "\tSteps:  10000 / 20000 \tReward: 3 \tMax Reward: 166 \tTD Error: 4.4089250564575195 \tTime: 54.072439193725586\n",
            "\tSteps:  11000 / 20000 \tReward: 199 \tMax Reward: 199 \tTD Error: 204.39832919836044 \tTime: 55.795279026031494\n",
            "\tSteps:  12000 / 20000 \tReward: 199 \tMax Reward: 199 \tTD Error: 254.02651178836823 \tTime: 57.55175018310547\n",
            "\tSteps:  13000 / 20000 \tReward: 199 \tMax Reward: 199 \tTD Error: 302.295850276947 \tTime: 59.28578233718872\n",
            "\tSteps:  14000 / 20000 \tReward: 199 \tMax Reward: 199 \tTD Error: 353.27898156642914 \tTime: 61.033801317214966\n",
            "\tSteps:  15000 / 20000 \tReward: 199 \tMax Reward: 199 \tTD Error: 437.9581731557846 \tTime: 62.801931381225586\n",
            "\tSteps:  16000 / 20000 \tReward: 199 \tMax Reward: 199 \tTD Error: 517.910965681076 \tTime: 64.55101871490479\n",
            "\tSteps:  17000 / 20000 \tReward: 199 \tMax Reward: 199 \tTD Error: 616.1291449069977 \tTime: 66.28412652015686\n",
            "\tSteps:  18000 / 20000 \tReward: 199 \tMax Reward: 199 \tTD Error: 749.9142392277718 \tTime: 68.01970267295837\n",
            "\tSteps:  19000 / 20000 \tReward: 199 \tMax Reward: 199 \tTD Error: 913.7338416874409 \tTime: 69.77236318588257\n",
            "\tSteps:  20000 / 20000 \tReward: 199 \tMax Reward: 199 \tTD Error: 992.008911550045 \tTime: 71.5346839427948\n"
          ],
          "name": "stdout"
        }
      ]
    },
    {
      "cell_type": "markdown",
      "metadata": {
        "id": "Fw2vvf-a2zQR"
      },
      "source": [
        "### Generate Reward Plot"
      ]
    },
    {
      "cell_type": "code",
      "metadata": {
        "colab": {
          "base_uri": "https://localhost:8080/",
          "height": 312
        },
        "id": "KrkQOQjcHw-6",
        "outputId": "550dc114-e43e-4686-d6d8-84598c4498ce"
      },
      "source": [
        "res_plot(log_dict, log_dict_off)"
      ],
      "execution_count": 73,
      "outputs": [
        {
          "output_type": "display_data",
          "data": {
            "image/png": "[encoded data removed]",
            "text/plain": [
              "<Figure size 432x288 with 1 Axes>"
            ]
          },
          "metadata": {
            "tags": [],
            "needs_background": "light"
          }
        }
      ]
    },
    {
      "cell_type": "markdown",
      "metadata": {
        "id": "MOIsGAAk3FxT"
      },
      "source": [
        "## Experiment-2"
      ]
    },
    {
      "cell_type": "markdown",
      "metadata": {
        "id": "FTAxNN0yDTuK"
      },
      "source": [
        "### Train Agent without a dataset"
      ]
    },
    {
      "cell_type": "code",
      "metadata": {
        "id": "fc9sWdAsISU6",
        "colab": {
          "base_uri": "https://localhost:8080/"
        },
        "outputId": "9e6dd558-d26e-4a25-9442-8d00f9668ea1"
      },
      "source": [
        "lr = 0.001\r\n",
        "gamma = 0.95\r\n",
        "batch_size = 32\r\n",
        "num_steps = 10000\r\n",
        "window_size = 20\r\n",
        "log_interval = 1000\r\n",
        "buffer_size = 1000\r\n",
        "start_time = time.time()\r\n",
        "regret_states = [10,50,100,200,500,1000]\r\n",
        "\r\n",
        "log = {}\r\n",
        "for num_states in regret_states:\r\n",
        "    print('Number of States:', num_states, '\\n')\r\n",
        "    env = LineWorldMDP(num_states=num_states)\r\n",
        "    model = Net(env.num_states, env.num_actions)\r\n",
        "    optimizer = torch.optim.Adam(model.parameters(), lr=lr)\r\n",
        "    replay_buffer = ReplayBuffer(buffer_size)\r\n",
        "    state = env.reset()\r\n",
        "\r\n",
        "    log_dict = main(env, model, replay_buffer, data_collect=10)\r\n",
        "    log[num_states] = log_dict['average_rewards']\r\n",
        "    replay_buffer.buffer.clear()\r\n"
      ],
      "execution_count": 68,
      "outputs": [
        {
          "output_type": "stream",
          "text": [
            "Number of States: 10 \n",
            "\n",
            "\tSteps:  1000 / 10000 \tReward: 3 \tMax Reward: 9 \tTD Error: 17.14321231842041 \tTime: 1.1302087306976318\n",
            "\tSteps:  2000 / 10000 \tReward: 9 \tMax Reward: 9 \tTD Error: 31.415761947631836 \tTime: 2.727860450744629\n",
            "\tSteps:  3000 / 10000 \tReward: 9 \tMax Reward: 9 \tTD Error: 32.89892601966858 \tTime: 4.31149697303772\n",
            "\tSteps:  4000 / 10000 \tReward: 9 \tMax Reward: 9 \tTD Error: 35.61690974235535 \tTime: 5.903691291809082\n",
            "\tSteps:  5000 / 10000 \tReward: 9 \tMax Reward: 9 \tTD Error: 32.6036080121994 \tTime: 7.494578838348389\n",
            "\tSteps:  6000 / 10000 \tReward: 9 \tMax Reward: 9 \tTD Error: 27.37377941608429 \tTime: 9.088350057601929\n",
            "\tSteps:  7000 / 10000 \tReward: 9 \tMax Reward: 9 \tTD Error: 37.28819823265076 \tTime: 10.67218828201294\n",
            "\tSteps:  8000 / 10000 \tReward: 9 \tMax Reward: 9 \tTD Error: 32.83616840839386 \tTime: 12.273669958114624\n",
            "\tSteps:  9000 / 10000 \tReward: 9 \tMax Reward: 9 \tTD Error: 36.287248492240906 \tTime: 13.89024019241333\n",
            "\tSteps:  10000 / 10000 \tReward: 9 \tMax Reward: 9 \tTD Error: 32.4536327123642 \tTime: 15.481657981872559\n",
            "Number of States: 50 \n",
            "\n",
            "\tSteps:  1000 / 10000 \tReward: 49 \tMax Reward: 49 \tTD Error: 160.587176322937 \tTime: 16.623032808303833\n",
            "\tSteps:  2000 / 10000 \tReward: 49 \tMax Reward: 49 \tTD Error: 234.69807243347168 \tTime: 18.22365641593933\n",
            "\tSteps:  3000 / 10000 \tReward: 49 \tMax Reward: 49 \tTD Error: 252.29932779073715 \tTime: 19.831676721572876\n",
            "\tSteps:  4000 / 10000 \tReward: 49 \tMax Reward: 49 \tTD Error: 291.7458550632 \tTime: 21.43118453025818\n",
            "\tSteps:  5000 / 10000 \tReward: 23 \tMax Reward: 49 \tTD Error: 95.73329561948776 \tTime: 23.065555572509766\n",
            "\tSteps:  6000 / 10000 \tReward: 49 \tMax Reward: 49 \tTD Error: 257.7239883095026 \tTime: 24.658015489578247\n",
            "\tSteps:  7000 / 10000 \tReward: 49 \tMax Reward: 49 \tTD Error: 271.1726482361555 \tTime: 26.2658793926239\n",
            "\tSteps:  8000 / 10000 \tReward: 49 \tMax Reward: 49 \tTD Error: 251.1926571726799 \tTime: 27.88867735862732\n",
            "\tSteps:  9000 / 10000 \tReward: 49 \tMax Reward: 49 \tTD Error: 284.3452439457178 \tTime: 29.494426727294922\n",
            "\tSteps:  10000 / 10000 \tReward: 49 \tMax Reward: 49 \tTD Error: 177.87692561745644 \tTime: 31.095367670059204\n",
            "Number of States: 100 \n",
            "\n",
            "\tSteps:  1000 / 10000 \tReward: 15 \tMax Reward: 15 \tTD Error: 15.589655935764313 \tTime: 32.29982590675354\n",
            "\tSteps:  2000 / 10000 \tReward: 79 \tMax Reward: 79 \tTD Error: 184.36638712882996 \tTime: 33.95336127281189\n",
            "\tSteps:  3000 / 10000 \tReward: 54 \tMax Reward: 79 \tTD Error: 198.31085991859436 \tTime: 35.60099458694458\n",
            "\tSteps:  4000 / 10000 \tReward: 79 \tMax Reward: 79 \tTD Error: 310.7379548549652 \tTime: 37.26299834251404\n",
            "\tSteps:  5000 / 10000 \tReward: 79 \tMax Reward: 79 \tTD Error: 366.3102042078972 \tTime: 38.91695308685303\n",
            "\tSteps:  6000 / 10000 \tReward: 79 \tMax Reward: 79 \tTD Error: 428.9219563603401 \tTime: 40.57561206817627\n",
            "\tSteps:  7000 / 10000 \tReward: 79 \tMax Reward: 79 \tTD Error: 392.2834831774235 \tTime: 42.23683762550354\n",
            "\tSteps:  8000 / 10000 \tReward: 79 \tMax Reward: 79 \tTD Error: 412.309342443943 \tTime: 43.904717206954956\n",
            "\tSteps:  9000 / 10000 \tReward: 79 \tMax Reward: 79 \tTD Error: 427.19361048936844 \tTime: 45.581623792648315\n",
            "\tSteps:  10000 / 10000 \tReward: 79 \tMax Reward: 79 \tTD Error: 427.5419110059738 \tTime: 47.249733686447144\n",
            "Number of States: 200 \n",
            "\n",
            "\tSteps:  1000 / 10000 \tReward: 97 \tMax Reward: 199 \tTD Error: 146.30262285470963 \tTime: 48.444578409194946\n",
            "\tSteps:  2000 / 10000 \tReward: 199 \tMax Reward: 199 \tTD Error: 503.0220669209957 \tTime: 50.1100287437439\n",
            "\tSteps:  3000 / 10000 \tReward: 199 \tMax Reward: 199 \tTD Error: 555.1200313717127 \tTime: 51.81347465515137\n",
            "\tSteps:  4000 / 10000 \tReward: 199 \tMax Reward: 199 \tTD Error: 461.66116827353835 \tTime: 53.53293824195862\n",
            "\tSteps:  5000 / 10000 \tReward: 199 \tMax Reward: 199 \tTD Error: 438.243968648836 \tTime: 55.21978521347046\n",
            "\tSteps:  6000 / 10000 \tReward: 199 \tMax Reward: 199 \tTD Error: 313.5476964293048 \tTime: 56.92447853088379\n",
            "\tSteps:  7000 / 10000 \tReward: 199 \tMax Reward: 199 \tTD Error: 447.87486300896853 \tTime: 58.63817024230957\n",
            "\tSteps:  8000 / 10000 \tReward: 199 \tMax Reward: 199 \tTD Error: 360.1667675245553 \tTime: 60.343098640441895\n",
            "\tSteps:  9000 / 10000 \tReward: 199 \tMax Reward: 199 \tTD Error: 401.0918422685936 \tTime: 62.03398418426514\n",
            "\tSteps:  10000 / 10000 \tReward: 199 \tMax Reward: 199 \tTD Error: 283.4887387184426 \tTime: 63.76404809951782\n",
            "Number of States: 500 \n",
            "\n",
            "\tSteps:  1000 / 10000 \tReward: 65 \tMax Reward: 277 \tTD Error: 98.98192822933197 \tTime: 65.07336831092834\n",
            "\tSteps:  2000 / 10000 \tReward: 499 \tMax Reward: 499 \tTD Error: 692.98640614748 \tTime: 66.94606423377991\n",
            "\tSteps:  3000 / 10000 \tReward: 261 \tMax Reward: 499 \tTD Error: 359.2062023282051 \tTime: 68.82985258102417\n",
            "\tSteps:  4000 / 10000 \tReward: 48 \tMax Reward: 499 \tTD Error: 118.75231236219406 \tTime: 70.70358967781067\n",
            "\tSteps:  5000 / 10000 \tReward: 72 \tMax Reward: 499 \tTD Error: 90.87549793720245 \tTime: 72.5964035987854\n",
            "\tSteps:  6000 / 10000 \tReward: 499 \tMax Reward: 499 \tTD Error: 638.6790216565132 \tTime: 74.49483156204224\n",
            "\tSteps:  7000 / 10000 \tReward: 330 \tMax Reward: 499 \tTD Error: 484.5215513408184 \tTime: 76.38691186904907\n",
            "\tSteps:  8000 / 10000 \tReward: 499 \tMax Reward: 499 \tTD Error: 857.6452942043543 \tTime: 78.26626706123352\n",
            "\tSteps:  9000 / 10000 \tReward: 499 \tMax Reward: 499 \tTD Error: 824.9320563077927 \tTime: 80.14023184776306\n",
            "\tSteps:  10000 / 10000 \tReward: 499 \tMax Reward: 499 \tTD Error: 886.0552713871002 \tTime: 82.01050400733948\n",
            "Number of States: 1000 \n",
            "\n",
            "\tSteps:  1000 / 10000 \tReward: 212 \tMax Reward: 212 \tTD Error: 534.7661316990852 \tTime: 83.47838234901428\n",
            "\tSteps:  2000 / 10000 \tReward: 999 \tMax Reward: 999 \tTD Error: 1937.9174333810806 \tTime: 85.59079551696777\n",
            "\tSteps:  3000 / 10000 \tReward: 999 \tMax Reward: 999 \tTD Error: 1538.1135470792651 \tTime: 87.70630693435669\n",
            "\tSteps:  4000 / 10000 \tReward: 663 \tMax Reward: 999 \tTD Error: 1274.8899359703064 \tTime: 89.84387850761414\n",
            "\tSteps:  5000 / 10000 \tReward: 999 \tMax Reward: 999 \tTD Error: 2080.2495381832123 \tTime: 91.96438097953796\n",
            "\tSteps:  6000 / 10000 \tReward: 937 \tMax Reward: 999 \tTD Error: 1647.1611033678055 \tTime: 94.12280249595642\n",
            "\tSteps:  7000 / 10000 \tReward: 261 \tMax Reward: 999 \tTD Error: 565.9057001620531 \tTime: 96.30287432670593\n",
            "\tSteps:  8000 / 10000 \tReward: 162 \tMax Reward: 999 \tTD Error: 374.0816730558872 \tTime: 98.58486723899841\n",
            "\tSteps:  9000 / 10000 \tReward: 999 \tMax Reward: 999 \tTD Error: 2180.157691717148 \tTime: 100.84559392929077\n",
            "\tSteps:  10000 / 10000 \tReward: 424 \tMax Reward: 999 \tTD Error: 869.4525385797024 \tTime: 103.05830216407776\n"
          ],
          "name": "stdout"
        }
      ]
    },
    {
      "cell_type": "markdown",
      "metadata": {
        "id": "dIU-gC05DeAk"
      },
      "source": [
        "### Train Agent with a sub-optimal dataset"
      ]
    },
    {
      "cell_type": "code",
      "metadata": {
        "colab": {
          "base_uri": "https://localhost:8080/"
        },
        "id": "8OJQXmp6Dh5P",
        "outputId": "f5d35263-8792-4b92-b6cd-b1ab38f0100e"
      },
      "source": [
        "log_off = {}\r\n",
        "for num_states in regret_states:\r\n",
        "    print('Number of States:', num_states, '\\n')\r\n",
        "    env = LineWorldMDP(num_states=num_states)\r\n",
        "    model_off = Net(env.num_states, env.num_actions)\r\n",
        "    optimizer = torch.optim.Adam(model_off.parameters(), lr=lr)\r\n",
        "    replay_buffer = ReplayBuffer(buffer_size)\r\n",
        "    state = env.reset()\r\n",
        "\r\n",
        "    for _ in range(20*batch_size):\r\n",
        "      action = 0\r\n",
        "      next_state, reward, done, _ = env.step(action)\r\n",
        "      replay_buffer.push(state, action, reward, next_state, done)\r\n",
        "      if done:\r\n",
        "        state = env.reset()\r\n",
        "        ep_step_count = 0\r\n",
        "        done = False\r\n",
        "\r\n",
        "    log_dict = main(env, model_off, replay_buffer, data_collect=10)\r\n",
        "    log_off[num_states] = log_dict['average_rewards']\r\n",
        "    replay_buffer.buffer.clear()\r\n"
      ],
      "execution_count": 69,
      "outputs": [
        {
          "output_type": "stream",
          "text": [
            "Number of States: 10 \n",
            "\n",
            "\tSteps:  1000 / 10000 \tReward: 6 \tMax Reward: 9 \tTD Error: 1.1294471994042397 \tTime: 104.6955738067627\n",
            "\tSteps:  2000 / 10000 \tReward: 9 \tMax Reward: 9 \tTD Error: 3.2874142229557037 \tTime: 106.2586042881012\n",
            "\tSteps:  3000 / 10000 \tReward: 9 \tMax Reward: 9 \tTD Error: 4.836950957775116 \tTime: 107.8581428527832\n",
            "\tSteps:  4000 / 10000 \tReward: 6 \tMax Reward: 9 \tTD Error: 5.456437349319458 \tTime: 109.4478964805603\n",
            "\tSteps:  5000 / 10000 \tReward: 9 \tMax Reward: 9 \tTD Error: 8.30287879705429 \tTime: 111.02758169174194\n",
            "\tSteps:  6000 / 10000 \tReward: 9 \tMax Reward: 9 \tTD Error: 11.304962754249573 \tTime: 112.63338041305542\n",
            "\tSteps:  7000 / 10000 \tReward: 9 \tMax Reward: 9 \tTD Error: 13.998200178146362 \tTime: 114.21691012382507\n",
            "\tSteps:  8000 / 10000 \tReward: 9 \tMax Reward: 9 \tTD Error: 19.825987696647644 \tTime: 115.83242869377136\n",
            "\tSteps:  9000 / 10000 \tReward: 9 \tMax Reward: 9 \tTD Error: 30.615776419639587 \tTime: 117.4210090637207\n",
            "\tSteps:  10000 / 10000 \tReward: 9 \tMax Reward: 9 \tTD Error: 36.89770269393921 \tTime: 119.03413462638855\n",
            "Number of States: 50 \n",
            "\n",
            "\tSteps:  1000 / 10000 \tReward: 6 \tMax Reward: 6 \tTD Error: 0.9444425068795681 \tTime: 120.68556642532349\n",
            "\tSteps:  2000 / 10000 \tReward: 7 \tMax Reward: 7 \tTD Error: 2.44671069085598 \tTime: 122.29555034637451\n",
            "\tSteps:  3000 / 10000 \tReward: 11 \tMax Reward: 14 \tTD Error: 5.532327622175217 \tTime: 123.90195083618164\n",
            "\tSteps:  4000 / 10000 \tReward: 14 \tMax Reward: 14 \tTD Error: 8.142275303602219 \tTime: 125.52849197387695\n",
            "\tSteps:  5000 / 10000 \tReward: 13 \tMax Reward: 14 \tTD Error: 11.549508154392242 \tTime: 127.12474703788757\n",
            "\tSteps:  6000 / 10000 \tReward: 14 \tMax Reward: 14 \tTD Error: 17.524226665496826 \tTime: 128.75430846214294\n",
            "\tSteps:  7000 / 10000 \tReward: 14 \tMax Reward: 14 \tTD Error: 23.27862560749054 \tTime: 130.36963820457458\n",
            "\tSteps:  8000 / 10000 \tReward: 14 \tMax Reward: 14 \tTD Error: 31.69211184978485 \tTime: 132.0099995136261\n",
            "\tSteps:  9000 / 10000 \tReward: 14 \tMax Reward: 14 \tTD Error: 46.09796333312988 \tTime: 133.65068745613098\n",
            "\tSteps:  10000 / 10000 \tReward: 14 \tMax Reward: 14 \tTD Error: 63.17994832992554 \tTime: 135.29923176765442\n",
            "Number of States: 100 \n",
            "\n",
            "\tSteps:  1000 / 10000 \tReward: 2 \tMax Reward: 20 \tTD Error: 0.3845812901854515 \tTime: 136.96878790855408\n",
            "\tSteps:  2000 / 10000 \tReward: 4 \tMax Reward: 20 \tTD Error: 1.5285157710313797 \tTime: 138.63123989105225\n",
            "\tSteps:  3000 / 10000 \tReward: 5 \tMax Reward: 20 \tTD Error: 2.306849777698517 \tTime: 140.26983761787415\n",
            "\tSteps:  4000 / 10000 \tReward: 5 \tMax Reward: 20 \tTD Error: 3.817930728197098 \tTime: 141.93806552886963\n",
            "\tSteps:  5000 / 10000 \tReward: 8 \tMax Reward: 20 \tTD Error: 7.469494521617889 \tTime: 143.63153433799744\n",
            "\tSteps:  6000 / 10000 \tReward: 8 \tMax Reward: 20 \tTD Error: 10.364111304283142 \tTime: 145.316992521286\n",
            "\tSteps:  7000 / 10000 \tReward: 15 \tMax Reward: 20 \tTD Error: 24.01858925819397 \tTime: 147.02861642837524\n",
            "\tSteps:  8000 / 10000 \tReward: 15 \tMax Reward: 20 \tTD Error: 33.29131495952606 \tTime: 148.71510481834412\n",
            "\tSteps:  9000 / 10000 \tReward: 15 \tMax Reward: 20 \tTD Error: 57.5093777179718 \tTime: 150.42464756965637\n",
            "\tSteps:  10000 / 10000 \tReward: 15 \tMax Reward: 20 \tTD Error: 71.27337312698364 \tTime: 152.10374569892883\n",
            "Number of States: 200 \n",
            "\n",
            "\tSteps:  1000 / 10000 \tReward: 3 \tMax Reward: 13 \tTD Error: 0.869131051003933 \tTime: 153.8659746646881\n",
            "\tSteps:  2000 / 10000 \tReward: 6 \tMax Reward: 13 \tTD Error: 1.9466026797890663 \tTime: 155.6267604827881\n",
            "\tSteps:  3000 / 10000 \tReward: 8 \tMax Reward: 13 \tTD Error: 4.173616826534271 \tTime: 157.3713343143463\n",
            "\tSteps:  4000 / 10000 \tReward: 12 \tMax Reward: 13 \tTD Error: 7.395868092775345 \tTime: 159.1231369972229\n",
            "\tSteps:  5000 / 10000 \tReward: 16 \tMax Reward: 16 \tTD Error: 13.534409880638123 \tTime: 160.87883710861206\n",
            "\tSteps:  6000 / 10000 \tReward: 17 \tMax Reward: 21 \tTD Error: 19.909387946128845 \tTime: 162.6213710308075\n",
            "\tSteps:  7000 / 10000 \tReward: 17 \tMax Reward: 28 \tTD Error: 28.78614640235901 \tTime: 164.3359501361847\n",
            "\tSteps:  8000 / 10000 \tReward: 17 \tMax Reward: 28 \tTD Error: 38.49394226074219 \tTime: 166.0806496143341\n",
            "\tSteps:  9000 / 10000 \tReward: 17 \tMax Reward: 28 \tTD Error: 53.760650515556335 \tTime: 167.8058648109436\n",
            "\tSteps:  10000 / 10000 \tReward: 17 \tMax Reward: 28 \tTD Error: 75.96506720781326 \tTime: 169.53047156333923\n",
            "Number of States: 500 \n",
            "\n",
            "\tSteps:  1000 / 10000 \tReward: 2 \tMax Reward: 57 \tTD Error: 0.48686405271291733 \tTime: 171.41077852249146\n",
            "\tSteps:  2000 / 10000 \tReward: 3 \tMax Reward: 57 \tTD Error: 1.679029256105423 \tTime: 173.2849578857422\n",
            "\tSteps:  3000 / 10000 \tReward: 9 \tMax Reward: 57 \tTD Error: 4.647280246019363 \tTime: 175.18307065963745\n",
            "\tSteps:  4000 / 10000 \tReward: 10 \tMax Reward: 57 \tTD Error: 6.122290998697281 \tTime: 177.0817129611969\n",
            "\tSteps:  5000 / 10000 \tReward: 17 \tMax Reward: 57 \tTD Error: 14.16562694311142 \tTime: 178.96469974517822\n",
            "\tSteps:  6000 / 10000 \tReward: 22 \tMax Reward: 57 \tTD Error: 22.584980368614197 \tTime: 180.87769770622253\n",
            "\tSteps:  7000 / 10000 \tReward: 156 \tMax Reward: 499 \tTD Error: 222.37973725795746 \tTime: 182.77916312217712\n",
            "\tSteps:  8000 / 10000 \tReward: 499 \tMax Reward: 499 \tTD Error: 912.0054918527603 \tTime: 184.69762921333313\n",
            "\tSteps:  9000 / 10000 \tReward: 499 \tMax Reward: 499 \tTD Error: 1279.1446678638458 \tTime: 186.61056804656982\n",
            "\tSteps:  10000 / 10000 \tReward: 499 \tMax Reward: 499 \tTD Error: 1821.0553702116013 \tTime: 188.50250005722046\n",
            "Number of States: 1000 \n",
            "\n",
            "\tSteps:  1000 / 10000 \tReward: 1 \tMax Reward: 65 \tTD Error: 0.24934694962576032 \tTime: 190.67662930488586\n",
            "\tSteps:  2000 / 10000 \tReward: 4 \tMax Reward: 65 \tTD Error: 1.6328836679458618 \tTime: 192.80189871788025\n",
            "\tSteps:  3000 / 10000 \tReward: 4 \tMax Reward: 65 \tTD Error: 2.3821897506713867 \tTime: 194.93893718719482\n",
            "\tSteps:  4000 / 10000 \tReward: 5 \tMax Reward: 65 \tTD Error: 3.5680021047592163 \tTime: 197.11679935455322\n",
            "\tSteps:  5000 / 10000 \tReward: 9 \tMax Reward: 65 \tTD Error: 8.014963984489441 \tTime: 199.24900317192078\n",
            "\tSteps:  6000 / 10000 \tReward: 15 \tMax Reward: 65 \tTD Error: 16.40980750322342 \tTime: 201.3593156337738\n",
            "\tSteps:  7000 / 10000 \tReward: 211 \tMax Reward: 243 \tTD Error: 250.6685231924057 \tTime: 203.4941864013672\n",
            "\tSteps:  8000 / 10000 \tReward: 999 \tMax Reward: 999 \tTD Error: 1461.4007160663605 \tTime: 205.65716314315796\n",
            "\tSteps:  9000 / 10000 \tReward: 999 \tMax Reward: 999 \tTD Error: 1993.7052943706512 \tTime: 207.9160885810852\n",
            "\tSteps:  10000 / 10000 \tReward: 368 \tMax Reward: 999 \tTD Error: 1040.4899636507034 \tTime: 210.14270329475403\n"
          ],
          "name": "stdout"
        }
      ]
    },
    {
      "cell_type": "markdown",
      "metadata": {
        "id": "Tuuz8BKRDjNX"
      },
      "source": [
        "### Generate Regret Plot"
      ]
    },
    {
      "cell_type": "code",
      "metadata": {
        "colab": {
          "base_uri": "https://localhost:8080/",
          "height": 312
        },
        "id": "jy3ZUYSx9z61",
        "outputId": "8da78541-5230-4310-a0be-b0037dffcfb6"
      },
      "source": [
        "plot_regret(log, log_off)"
      ],
      "execution_count": 70,
      "outputs": [
        {
          "output_type": "display_data",
          "data": {
            "image/png": "[encoded data removed]",
            "text/plain": [
              "<Figure size 432x288 with 1 Axes>"
            ]
          },
          "metadata": {
            "tags": [],
            "needs_background": "light"
          }
        }
      ]
    },
    {
      "cell_type": "code",
      "metadata": {
        "id": "omjTmsG6-oaP"
      },
      "source": [
        ""
      ],
      "execution_count": 70,
      "outputs": []
    }
  ]
}