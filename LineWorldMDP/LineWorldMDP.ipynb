{
  "nbformat": 4,
  "nbformat_minor": 0,
  "metadata": {
    "colab": {
      "name": "LineWorldMDP.ipynb",
      "provenance": [],
      "collapsed_sections": []
    },
    "kernelspec": {
      "name": "python3",
      "display_name": "Python 3"
    }
  },
  "cells": [
    {
      "cell_type": "markdown",
      "metadata": {
        "id": "Tp2CJZ0D0uWC"
      },
      "source": [
        "# LineWorld MDP\r\n",
        "\r\n",
        "This notebook provides a proof of concept of behavior initialization. Agents are simulated in the 1D LineWorld from [Kumar et. al.](https://bair.berkeley.edu/blog/2019/12/05/bear/) and demonstrate the neccessity for data collection. "
      ]
    },
    {
      "cell_type": "markdown",
      "metadata": {
        "id": "XA-trFia1kv5"
      },
      "source": [
        "### Imports"
      ]
    },
    {
      "cell_type": "code",
      "metadata": {
        "colab": {
          "base_uri": "https://localhost:8080/"
        },
        "id": "QRbyUpfN91FF",
        "outputId": "fb66b449-20cf-4937-b3c8-8bd1fa34e740"
      },
      "source": [
        "import numpy as np\r\n",
        "import torch\r\n",
        "import random\r\n",
        "import math\r\n",
        "import time\r\n",
        "import torch.nn as nn\r\n",
        "from collections import deque\r\n",
        "import matplotlib.pyplot as plt\r\n",
        "\r\n",
        "DEVICE = 'cuda' if torch.cuda.is_available() else 'cpu'\r\n",
        "torch.manual_seed(2)"
      ],
      "execution_count": 13,
      "outputs": [
        {
          "output_type": "execute_result",
          "data": {
            "text/plain": [
              "<torch._C.Generator at 0x7fb16dd7bb58>"
            ]
          },
          "metadata": {
            "tags": []
          },
          "execution_count": 13
        }
      ]
    },
    {
      "cell_type": "markdown",
      "metadata": {
        "id": "d35PMK4K1m4N"
      },
      "source": [
        "### The 1D Line World MDP"
      ]
    },
    {
      "cell_type": "code",
      "metadata": {
        "id": "f2AYH2WQ-GQB"
      },
      "source": [
        "class LineWorldMDP:\r\n",
        "    def __init__(self, num_states):\r\n",
        "        # initialize MDP\r\n",
        "        self.end           = False\r\n",
        "        self.current_state = 1\r\n",
        "        self.num_actions   = 2\r\n",
        "        self.num_states    = num_states\r\n",
        "        self.step_count = 0\r\n",
        "\r\n",
        "    def reset(self):\r\n",
        "        # reset MDP\r\n",
        "        self.step_count = 0\r\n",
        "        self.end = False\r\n",
        "        self.current_state = 1\r\n",
        "        state = np.zeros(self.num_states)\r\n",
        "        state[self.current_state - 1] = 1.\r\n",
        "        return state\r\n",
        "\r\n",
        "    def step(self, action):\r\n",
        "        # increment step count\r\n",
        "        self.step_count += 1\r\n",
        "\r\n",
        "        # positive reward for right action\r\n",
        "        if action == 1:\r\n",
        "            self.current_state += 1\r\n",
        "            reward = 1\r\n",
        "        # negative reward for left action\r\n",
        "        else:\r\n",
        "            self.current_state -= 1\r\n",
        "            reward = -1\r\n",
        "            self.end = True\r\n",
        "\r\n",
        "        # check step counter\r\n",
        "        if self.step_count >= 1000 or self.current_state==self.num_states:\r\n",
        "            self.end = True\r\n",
        "\r\n",
        "        state = np.zeros(self.num_states)\r\n",
        "        state[self.current_state - 1] = 1\r\n",
        "        return state, reward, self.end, {}\r\n"
      ],
      "execution_count": 14,
      "outputs": []
    },
    {
      "cell_type": "markdown",
      "metadata": {
        "id": "J7E-I7HA1xfE"
      },
      "source": [
        "### Neural Network Architecture"
      ]
    },
    {
      "cell_type": "code",
      "metadata": {
        "id": "ivc4vVp_-HLV"
      },
      "source": [
        "class Net(nn.Module):\r\n",
        "    def __init__(self, num_inputs, num_actions):\r\n",
        "        super(Net, self).__init__()\r\n",
        "        self.num_actions = num_actions\r\n",
        "        self.l1 = nn.Linear(num_inputs, 32)\r\n",
        "        self.relu2 = nn.ReLU()\r\n",
        "        self.l3 = nn.Linear(32, num_actions)\r\n",
        "\r\n",
        "    def forward(self, states):\r\n",
        "        x = to_torch(states)\r\n",
        "        x = to_torch(x)\r\n",
        "        x = self.l1(x)\r\n",
        "        x = self.relu2(x)\r\n",
        "        x = self.l3(x)\r\n",
        "        return x\r\n",
        "    \r\n",
        "    def get_actions(self, steps, states):\r\n",
        "        if random.random() > 0.001 + (0.4 - 0.001) * math.exp(-1. * steps / 200):\r\n",
        "            x = to_torch(states)\r\n",
        "            x = self.forward(x)\r\n",
        "            x = torch.argmax(x).type(torch.int64)\r\n",
        "            return x\r\n",
        "        else:\r\n",
        "            return to_torch(np.random.randint(low=0, high=self.num_actions)).type(torch.int64)\r\n",
        "\r\n",
        "\r\n",
        "def to_torch(x, **kwargs):\r\n",
        "\tif torch.is_tensor(x):\r\n",
        "\t\treturn x.to(DEVICE)\r\n",
        "\telse:\r\n",
        "\t\treturn torch.tensor(x, device=DEVICE, dtype=torch.float32, **kwargs)\r\n"
      ],
      "execution_count": null,
      "outputs": []
    },
    {
      "cell_type": "markdown",
      "metadata": {
        "id": "ajBrBi9W11HI"
      },
      "source": [
        "### Replay Buffer"
      ]
    },
    {
      "cell_type": "code",
      "metadata": {
        "id": "hCyycb1a-NqD"
      },
      "source": [
        "class ReplayBuffer():\r\n",
        "    def __init__(self, capacity):\r\n",
        "        self.buffer = deque(maxlen=capacity)\r\n",
        "    \r\n",
        "    def push(self, state, action, reward, next_state, done):\r\n",
        "        state      = np.expand_dims(state, 0)\r\n",
        "        next_state = np.expand_dims(next_state, 0)\r\n",
        "            \r\n",
        "        self.buffer.append((state, action, reward, next_state, done))\r\n",
        "    \r\n",
        "    def empty(self):\r\n",
        "        while self.buffer:\r\n",
        "          _ = self.buffer.pop()\r\n",
        "\r\n",
        "    def sample(self, batch_size):\r\n",
        "        state, action, reward, next_state, done = zip(*random.sample(self.buffer, batch_size))\r\n",
        "        return np.concatenate(state), action, reward, np.concatenate(next_state), done\r\n",
        "    \r\n",
        "    def __len__(self):\r\n",
        "        return len(self.buffer)\r\n"
      ],
      "execution_count": 15,
      "outputs": []
    },
    {
      "cell_type": "markdown",
      "metadata": {
        "id": "X8jhLy4t14tq"
      },
      "source": [
        "### Train using Q-Learning"
      ]
    },
    {
      "cell_type": "code",
      "metadata": {
        "id": "8c9xT2S9-Afq"
      },
      "source": [
        "def train(replay_buffer):\r\n",
        "    states, actions, rewards, next_states, dones = replay_buffer.sample(batch_size)\r\n",
        "    states = to_torch(states)\r\n",
        "    actions = to_torch(actions).type(torch.int64)\r\n",
        "    rewards = to_torch(rewards)\r\n",
        "    next_states = to_torch(next_states)\r\n",
        "    dones = to_torch(dones)\r\n",
        "    vals = model(states)\r\n",
        "    vals = vals.gather(1, actions.unsqueeze(1))\r\n",
        "    next_vals = model(next_states).max(1)[0]\r\n",
        "    target = rewards + gamma*next_vals*(1 - dones)\r\n",
        "    td_error = (target.detach() - vals).pow(2).mean()\r\n",
        "    optimizer.zero_grad()\r\n",
        "    td_error.backward()\r\n",
        "    optimizer.step()\r\n",
        "    return td_error.item()    \r\n"
      ],
      "execution_count": 16,
      "outputs": []
    },
    {
      "cell_type": "markdown",
      "metadata": {
        "id": "4ijA-xQl1_iA"
      },
      "source": [
        "### Simulate Agent in Environment"
      ]
    },
    {
      "cell_type": "code",
      "metadata": {
        "id": "WWZys5gL-fpU"
      },
      "source": [
        "def main(env, model, replay_buffer, data_collect):\r\n",
        "    log_dict = {}\r\n",
        "    log_dict['rewards'] = []\r\n",
        "    log_dict['average_rewards'] = []\r\n",
        "    log_dict['average_error'] = []\r\n",
        "    log_dict['td_error'] = []\r\n",
        "    log_dict['ep_count'] = []\r\n",
        "    state = env.reset()\r\n",
        "    loss = torch.FloatTensor([0])\r\n",
        "    steps = 0\r\n",
        "    ep_step_count = 0\r\n",
        "    ep_reward = 0\r\n",
        "    ep_loss = 0\r\n",
        "    while steps < num_steps:\r\n",
        "        action = model.get_actions(steps, state)\r\n",
        "        next_state, reward, done, _ = env.step(action)\r\n",
        "        ep_reward += reward\r\n",
        "        steps += 1\r\n",
        "        ep_step_count += 1\r\n",
        "\r\n",
        "        if len(replay_buffer) > batch_size:\r\n",
        "            loss = train(replay_buffer)\r\n",
        "        ep_loss += loss\r\n",
        "\r\n",
        "        if steps%data_collect==0:\r\n",
        "            replay_buffer.push(state, action, reward, next_state, done)\r\n",
        "        state = next_state\r\n",
        "\r\n",
        "        if done:\r\n",
        "            state = env.reset()\r\n",
        "            ep_step_count = 0\r\n",
        "            done = False\r\n",
        "            log_dict['rewards'].append(ep_reward)\r\n",
        "            log_dict['td_error'].append(ep_loss)\r\n",
        "            if len(log_dict['rewards']) > window_size:\r\n",
        "                log_dict['average_rewards'].append(np.mean(log_dict['rewards'][-window_size:]))\r\n",
        "                log_dict['average_error'].append(np.mean(log_dict['td_error'][-window_size:]))\r\n",
        "            log_dict['ep_count'].append(steps)\r\n",
        "            ep_loss = 0\r\n",
        "            ep_reward = 0\r\n",
        "        \r\n",
        "        if steps % log_interval==0:\r\n",
        "            print('\\tSteps: ', steps,'/', num_steps,'\\tReward:', \r\n",
        "                log_dict['rewards'][-1],'\\tMax Reward:',max(log_dict['rewards']),'\\tTD Error:',log_dict['td_error'][-1],'\\tTime:', time.time() - start_time)\r\n",
        "\r\n",
        "    return log_dict    \r\n"
      ],
      "execution_count": 17,
      "outputs": []
    },
    {
      "cell_type": "markdown",
      "metadata": {
        "id": "fPs6FbZi2D97"
      },
      "source": [
        "## Plotting utilities"
      ]
    },
    {
      "cell_type": "code",
      "metadata": {
        "id": "AObOf8h0-iSI"
      },
      "source": [
        "def res_plot(log_dir, log_dir_off):\r\n",
        "\t# plot rewards\r\n",
        "    fig = plt.figure()\r\n",
        "    plt.title('Average Returns', fontsize=24)\r\n",
        "    plt.plot(log_dir['average_rewards'][-200:])\r\n",
        "    plt.plot(log_dir_off['average_rewards'][-200:])\r\n",
        "    plt.xlabel('Steps', fontsize=18)\r\n",
        "    plt.ylabel('Returns', fontsize=18)\r\n",
        "    plt.legend(['No Dataset','Sub-Optimal Dataset'])\r\n",
        "    plt.show()\r\n",
        "    fig.savefig('plot_rewards.png', dpi=600, bbox_inches='tight')\r\n",
        "\r\n",
        "def plot_regret(log):\r\n",
        "\t# plot rewards\r\n",
        "    fig = plt.figure()\r\n",
        "    plt.title('Regret', fontsize=24)\r\n",
        "    for j in regret_states:\r\n",
        "        plt.plot(j - max(log[j]))\r\n",
        "    plt.xlabel('States', fontsize=18)\r\n",
        "    plt.ylabel('Regret', fontsize=18)\r\n",
        "    plt.legend(regret_states)\r\n",
        "    plt.show()\r\n",
        "    fig.savefig('plot_regret.png', dpi=600, bbox_inches='tight')\r\n"
      ],
      "execution_count": 20,
      "outputs": []
    },
    {
      "cell_type": "markdown",
      "metadata": {
        "id": "NmBrhD613Bc4"
      },
      "source": [
        "## Experiment-1"
      ]
    },
    {
      "cell_type": "markdown",
      "metadata": {
        "id": "pMVZWd3R2J_r"
      },
      "source": [
        "### Train Agent without a dataset"
      ]
    },
    {
      "cell_type": "code",
      "metadata": {
        "colab": {
          "base_uri": "https://localhost:8080/"
        },
        "id": "1P7Z11Mb-i_P",
        "outputId": "06d2dff8-199d-4d59-aaf0-ddec9fc82643"
      },
      "source": [
        "# hyperparameters\r\n",
        "lr = 0.001\r\n",
        "gamma = 0.95\r\n",
        "batch_size = 32\r\n",
        "num_states = 200\r\n",
        "num_steps = 20000\r\n",
        "window_size = 20\r\n",
        "log_interval = 1000\r\n",
        "buffer_size = 1000\r\n",
        "start_time = time.time()\r\n",
        "\r\n",
        "# initialize env and agent\r\n",
        "env = LineWorldMDP(num_states=num_states)\r\n",
        "model = Net(env.num_states, env.num_actions)\r\n",
        "optimizer = torch.optim.Adam(model.parameters(), lr=lr)\r\n",
        "replay_buffer = ReplayBuffer(buffer_size)\r\n",
        "\r\n",
        "# train agent without a dataset\r\n",
        "log_dict = main(env, model, replay_buffer, data_collect=20)\r\n",
        "replay_buffer.empty()"
      ],
      "execution_count": 19,
      "outputs": [
        {
          "output_type": "stream",
          "text": [
            "\tSteps:  1000 / 20000 \tReward: 0 \tMax Reward: 2 \tTD Error: 0.4777216911315918 \tTime: 0.9100508689880371\n",
            "\tSteps:  2000 / 20000 \tReward: 11 \tMax Reward: 11 \tTD Error: 11.677760362625122 \tTime: 2.620239734649658\n",
            "\tSteps:  3000 / 20000 \tReward: 0 \tMax Reward: 15 \tTD Error: 2.786705732345581 \tTime: 4.370684862136841\n",
            "\tSteps:  4000 / 20000 \tReward: 11 \tMax Reward: 15 \tTD Error: 22.477051496505737 \tTime: 6.112466096878052\n",
            "\tSteps:  5000 / 20000 \tReward: 11 \tMax Reward: 15 \tTD Error: 29.97073209285736 \tTime: 7.794602632522583\n",
            "\tSteps:  6000 / 20000 \tReward: 11 \tMax Reward: 15 \tTD Error: 33.50468623638153 \tTime: 9.49263596534729\n",
            "\tSteps:  7000 / 20000 \tReward: 11 \tMax Reward: 15 \tTD Error: 33.52526938915253 \tTime: 11.23152232170105\n",
            "\tSteps:  8000 / 20000 \tReward: 11 \tMax Reward: 15 \tTD Error: 38.18375647068024 \tTime: 12.9408540725708\n",
            "\tSteps:  9000 / 20000 \tReward: 11 \tMax Reward: 15 \tTD Error: 38.32193636894226 \tTime: 14.671411275863647\n",
            "\tSteps:  10000 / 20000 \tReward: 11 \tMax Reward: 15 \tTD Error: 45.23063349723816 \tTime: 16.422346830368042\n",
            "\tSteps:  11000 / 20000 \tReward: 199 \tMax Reward: 199 \tTD Error: 664.8954741954803 \tTime: 18.14125680923462\n",
            "\tSteps:  12000 / 20000 \tReward: 199 \tMax Reward: 199 \tTD Error: 743.6706718206406 \tTime: 19.928791999816895\n",
            "\tSteps:  13000 / 20000 \tReward: 199 \tMax Reward: 199 \tTD Error: 804.5788292884827 \tTime: 21.61044454574585\n",
            "\tSteps:  14000 / 20000 \tReward: 199 \tMax Reward: 199 \tTD Error: 817.3548753261566 \tTime: 23.38617753982544\n",
            "\tSteps:  15000 / 20000 \tReward: 199 \tMax Reward: 199 \tTD Error: 852.460430264473 \tTime: 25.122944116592407\n",
            "\tSteps:  16000 / 20000 \tReward: 199 \tMax Reward: 199 \tTD Error: 913.2797122001648 \tTime: 26.848987579345703\n",
            "\tSteps:  17000 / 20000 \tReward: 199 \tMax Reward: 199 \tTD Error: 923.9582773447037 \tTime: 28.560177087783813\n",
            "\tSteps:  18000 / 20000 \tReward: 33 \tMax Reward: 199 \tTD Error: 182.85331392288208 \tTime: 30.298699140548706\n",
            "\tSteps:  19000 / 20000 \tReward: 199 \tMax Reward: 199 \tTD Error: 939.7250473499298 \tTime: 32.03096342086792\n",
            "\tSteps:  20000 / 20000 \tReward: 199 \tMax Reward: 199 \tTD Error: 1051.1263530552387 \tTime: 33.73273491859436\n"
          ],
          "name": "stdout"
        }
      ]
    },
    {
      "cell_type": "markdown",
      "metadata": {
        "id": "Bqj2LDia2ZDc"
      },
      "source": [
        "### Train agent with a sub-optimal dataset"
      ]
    },
    {
      "cell_type": "code",
      "metadata": {
        "colab": {
          "base_uri": "https://localhost:8080/"
        },
        "id": "4EVIjGwDEu9m",
        "outputId": "700d8616-d8dc-43f7-93cc-dcceea7c8dd4"
      },
      "source": [
        "# construct dataset of sub-optimal actions\r\n",
        "off_replay_buffer = ReplayBuffer(buffer_size)\r\n",
        "\r\n",
        "state = env.reset()\r\n",
        "for _ in range(20*batch_size):\r\n",
        "  action = 0\r\n",
        "  next_state, reward, done, _ = env.step(action)\r\n",
        "  off_replay_buffer.push(state, action, reward, next_state, done)\r\n",
        "  if done:\r\n",
        "    state = env.reset()\r\n",
        "    ep_step_count = 0\r\n",
        "    done = False\r\n",
        "\r\n",
        "# initialize model and env\r\n",
        "off_model = Net(env.num_states, env.num_actions)\r\n",
        "optimizer = torch.optim.Adam(off_model.parameters(), lr=lr)\r\n",
        "\r\n",
        "# train agent\r\n",
        "log_dict_off = main(env, off_model, off_replay_buffer, data_collect=20)\r\n",
        "replay_buffer.empty()"
      ],
      "execution_count": 21,
      "outputs": [
        {
          "output_type": "stream",
          "text": [
            "\tSteps:  1000 / 20000 \tReward: -1 \tMax Reward: 1 \tTD Error: 43.618141174316406 \tTime: 123.82677173614502\n",
            "\tSteps:  2000 / 20000 \tReward: -1 \tMax Reward: 1 \tTD Error: 43.601226806640625 \tTime: 125.1894781589508\n",
            "\tSteps:  3000 / 20000 \tReward: -1 \tMax Reward: 1 \tTD Error: 43.618141174316406 \tTime: 126.55703616142273\n",
            "\tSteps:  4000 / 20000 \tReward: -1 \tMax Reward: 1 \tTD Error: 43.601226806640625 \tTime: 127.90469622612\n",
            "\tSteps:  5000 / 20000 \tReward: -1 \tMax Reward: 1 \tTD Error: 43.618141174316406 \tTime: 129.27998995780945\n",
            "\tSteps:  6000 / 20000 \tReward: -1 \tMax Reward: 1 \tTD Error: 42.323604583740234 \tTime: 130.62262082099915\n",
            "\tSteps:  7000 / 20000 \tReward: -1 \tMax Reward: 1 \tTD Error: 43.618141174316406 \tTime: 131.95052576065063\n",
            "\tSteps:  8000 / 20000 \tReward: -1 \tMax Reward: 1 \tTD Error: 43.618141174316406 \tTime: 133.27531123161316\n",
            "\tSteps:  9000 / 20000 \tReward: -1 \tMax Reward: 1 \tTD Error: 43.618141174316406 \tTime: 134.6241397857666\n",
            "\tSteps:  10000 / 20000 \tReward: -1 \tMax Reward: 1 \tTD Error: 43.618141174316406 \tTime: 135.96176552772522\n",
            "\tSteps:  11000 / 20000 \tReward: -1 \tMax Reward: 1 \tTD Error: 43.618141174316406 \tTime: 137.33615803718567\n",
            "\tSteps:  12000 / 20000 \tReward: -1 \tMax Reward: 1 \tTD Error: 43.618141174316406 \tTime: 138.6804826259613\n",
            "\tSteps:  13000 / 20000 \tReward: -1 \tMax Reward: 1 \tTD Error: 43.618141174316406 \tTime: 140.02875113487244\n",
            "\tSteps:  14000 / 20000 \tReward: -1 \tMax Reward: 1 \tTD Error: 43.601226806640625 \tTime: 141.3518807888031\n",
            "\tSteps:  15000 / 20000 \tReward: -1 \tMax Reward: 1 \tTD Error: 43.622005462646484 \tTime: 142.6838355064392\n",
            "\tSteps:  16000 / 20000 \tReward: -1 \tMax Reward: 1 \tTD Error: 43.618141174316406 \tTime: 144.013090133667\n",
            "\tSteps:  17000 / 20000 \tReward: -1 \tMax Reward: 1 \tTD Error: 43.618141174316406 \tTime: 145.35522651672363\n",
            "\tSteps:  18000 / 20000 \tReward: -1 \tMax Reward: 1 \tTD Error: 43.618141174316406 \tTime: 146.7257342338562\n",
            "\tSteps:  19000 / 20000 \tReward: -1 \tMax Reward: 1 \tTD Error: 43.618141174316406 \tTime: 148.07639932632446\n",
            "\tSteps:  20000 / 20000 \tReward: -1 \tMax Reward: 1 \tTD Error: 43.618141174316406 \tTime: 149.4211061000824\n"
          ],
          "name": "stdout"
        }
      ]
    },
    {
      "cell_type": "markdown",
      "metadata": {
        "id": "Fw2vvf-a2zQR"
      },
      "source": [
        "### Generate Plot"
      ]
    },
    {
      "cell_type": "code",
      "metadata": {
        "colab": {
          "base_uri": "https://localhost:8080/",
          "height": 312
        },
        "id": "KrkQOQjcHw-6",
        "outputId": "4a596b12-70ce-4c68-8435-75daa3a0383e"
      },
      "source": [
        "res_plot(log_dict, log_dict_off)"
      ],
      "execution_count": 22,
      "outputs": [
        {
          "output_type": "display_data",
          "data": {
            "image/png": "[encoded data removed]",
            "text/plain": [
              "<Figure size 432x288 with 1 Axes>"
            ]
          },
          "metadata": {
            "tags": [],
            "needs_background": "light"
          }
        }
      ]
    },
    {
      "cell_type": "markdown",
      "metadata": {
        "id": "MOIsGAAk3FxT"
      },
      "source": [
        "## Experiment-2"
      ]
    },
    {
      "cell_type": "code",
      "metadata": {
        "id": "fc9sWdAsISU6"
      },
      "source": [
        "lr = 0.001\r\n",
        "gamma = 0.99\r\n",
        "batch_size = 32\r\n",
        "num_steps = 5000\r\n",
        "window_size = 20\r\n",
        "log_interval = 1000\r\n",
        "buffer_size = 1000\r\n",
        "start_time = time.time()\r\n",
        "\r\n",
        "log = {}\r\n",
        "for num_states in [10,50,100,200,500,1000]:\r\n",
        "    print('Number of States:', num_states, '\\n')\r\n",
        "    env = LineWorldMDP(num_states=num_states)\r\n",
        "    model = Net(env.num_states, env.num_actions)\r\n",
        "    optimizer = torch.optim.Adam(model.parameters(), lr=lr)\r\n",
        "    replay_buffer = ReplayBuffer(buffer_size)\r\n",
        "    \r\n",
        "    for _ in range(2*batch_size):\r\n",
        "      action = 0\r\n",
        "      next_state, reward, done, _ = env.step(action)\r\n",
        "      replay_buffer.push(state, action, reward, next_state, done)\r\n",
        "      if done:\r\n",
        "        state = env.reset()\r\n",
        "        ep_step_count = 0\r\n",
        "        done = False\r\n",
        "\r\n",
        "    log_dict = main(env, model, replay_buffer, data_collect=10)\r\n",
        "    log[num_states] = log_dict['average_rewards']\r\n",
        "    replay_buffer.empty()\r\n"
      ],
      "execution_count": null,
      "outputs": []
    }
  ]
}